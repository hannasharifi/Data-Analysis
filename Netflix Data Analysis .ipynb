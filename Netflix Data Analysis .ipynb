{
 "cells": [
  {
   "cell_type": "code",
   "execution_count": 5,
   "id": "0ac6ce8b",
   "metadata": {},
   "outputs": [],
   "source": [
    "import pandas as pd\n",
    "import sqlite3"
   ]
  },
  {
   "cell_type": "code",
   "execution_count": 6,
   "id": "ec9eeadc",
   "metadata": {},
   "outputs": [
    {
     "name": "stdout",
     "output_type": "stream",
     "text": [
      "  show_id     type                  title         director  \\\n",
      "0      s1    Movie   Dick Johnson Is Dead  Kirsten Johnson   \n",
      "1      s2  TV Show          Blood & Water             None   \n",
      "2      s3  TV Show              Ganglands  Julien Leclercq   \n",
      "3      s4  TV Show  Jailbirds New Orleans             None   \n",
      "4      s5  TV Show           Kota Factory             None   \n",
      "\n",
      "                                                cast        country  \\\n",
      "0                                               None  United States   \n",
      "1  Ama Qamata, Khosi Ngema, Gail Mabalane, Thaban...   South Africa   \n",
      "2  Sami Bouajila, Tracy Gotoas, Samuel Jouy, Nabi...           None   \n",
      "3                                               None           None   \n",
      "4  Mayur More, Jitendra Kumar, Ranjan Raj, Alam K...          India   \n",
      "\n",
      "           date_added  release_year rating   duration  \\\n",
      "0  September 25, 2021          2020  PG-13     90 min   \n",
      "1  September 24, 2021          2021  TV-MA  2 Seasons   \n",
      "2  September 24, 2021          2021  TV-MA   1 Season   \n",
      "3  September 24, 2021          2021  TV-MA   1 Season   \n",
      "4  September 24, 2021          2021  TV-MA  2 Seasons   \n",
      "\n",
      "                                           listed_in  \\\n",
      "0                                      Documentaries   \n",
      "1    International TV Shows, TV Dramas, TV Mysteries   \n",
      "2  Crime TV Shows, International TV Shows, TV Act...   \n",
      "3                             Docuseries, Reality TV   \n",
      "4  International TV Shows, Romantic TV Shows, TV ...   \n",
      "\n",
      "                                         description  \n",
      "0  As her father nears the end of his life, filmm...  \n",
      "1  After crossing paths at a party, a Cape Town t...  \n",
      "2  To protect his family from a powerful drug lor...  \n",
      "3  Feuds, flirtations and toilet talk go down amo...  \n",
      "4  In a city of coaching centers known to train I...  \n"
     ]
    }
   ],
   "source": [
    "conn = sqlite3.connect('netflix.db')\n",
    "\n",
    "cursor = conn.cursor()\n",
    "\n",
    "file_path = '/Users/hannasharifi/Downloads/netflix_data.csv'\n",
    "\n",
    "data = pd.read_csv(file_path)\n",
    "\n",
    "conn = sqlite3.connect('netflix_data.db')\n",
    "\n",
    "data.to_sql('netflix_data', conn, if_exists='replace', index=False)\n",
    "\n",
    "query_result = pd.read_sql('SELECT * FROM netflix_data LIMIT 5', conn)\n",
    "\n",
    "print(query_result)"
   ]
  },
  {
   "cell_type": "code",
   "execution_count": 7,
   "id": "afd1b0ce",
   "metadata": {},
   "outputs": [
    {
     "name": "stdout",
     "output_type": "stream",
     "text": [
      "show_id            0\n",
      "type               0\n",
      "title              0\n",
      "director        2634\n",
      "cast             825\n",
      "country          831\n",
      "date_added        10\n",
      "release_year       0\n",
      "rating             4\n",
      "duration           3\n",
      "listed_in          0\n",
      "description        0\n",
      "dtype: int64\n"
     ]
    }
   ],
   "source": [
    "missing_values = data.isnull().sum()\n",
    "print(missing_values)"
   ]
  },
  {
   "cell_type": "code",
   "execution_count": 8,
   "id": "99b3d792",
   "metadata": {},
   "outputs": [
    {
     "name": "stdout",
     "output_type": "stream",
     "text": [
      "show_id         object\n",
      "type            object\n",
      "title           object\n",
      "director        object\n",
      "cast            object\n",
      "country         object\n",
      "date_added      object\n",
      "release_year     int64\n",
      "rating          object\n",
      "duration        object\n",
      "listed_in       object\n",
      "description     object\n",
      "dtype: object\n"
     ]
    }
   ],
   "source": [
    "print(data.dtypes)"
   ]
  },
  {
   "cell_type": "code",
   "execution_count": 9,
   "id": "b2253c73",
   "metadata": {},
   "outputs": [],
   "source": [
    "data['date_added'] = pd.to_datetime(data['date_added'], errors='coerce')"
   ]
  },
  {
   "cell_type": "code",
   "execution_count": 10,
   "id": "5a159616",
   "metadata": {},
   "outputs": [
    {
     "name": "stdout",
     "output_type": "stream",
     "text": [
      "  show_id     type                  title          director  \\\n",
      "0      s1    Movie   Dick Johnson Is Dead   Kirsten Johnson   \n",
      "1      s2  TV Show          Blood & Water  Unknown director   \n",
      "2      s3  TV Show              Ganglands   Julien Leclercq   \n",
      "3      s4  TV Show  Jailbirds New Orleans  Unknown director   \n",
      "4      s5  TV Show           Kota Factory  Unknown director   \n",
      "\n",
      "                                                cast        country  \\\n",
      "0                                       Unknown cast  United States   \n",
      "1  Ama Qamata, Khosi Ngema, Gail Mabalane, Thaban...   South Africa   \n",
      "2  Sami Bouajila, Tracy Gotoas, Samuel Jouy, Nabi...        Unknown   \n",
      "3                                       Unknown cast        Unknown   \n",
      "4  Mayur More, Jitendra Kumar, Ranjan Raj, Alam K...          India   \n",
      "\n",
      "  date_added  release_year rating   duration  \\\n",
      "0 2021-09-25          2020  PG-13     90 min   \n",
      "1 2021-09-24          2021  TV-MA  2 Seasons   \n",
      "2 2021-09-24          2021  TV-MA   1 Season   \n",
      "3 2021-09-24          2021  TV-MA   1 Season   \n",
      "4 2021-09-24          2021  TV-MA  2 Seasons   \n",
      "\n",
      "                                           listed_in  \\\n",
      "0                                      Documentaries   \n",
      "1    International TV Shows, TV Dramas, TV Mysteries   \n",
      "2  Crime TV Shows, International TV Shows, TV Act...   \n",
      "3                             Docuseries, Reality TV   \n",
      "4  International TV Shows, Romantic TV Shows, TV ...   \n",
      "\n",
      "                                         description  \n",
      "0  As her father nears the end of his life, filmm...  \n",
      "1  After crossing paths at a party, a Cape Town t...  \n",
      "2  To protect his family from a powerful drug lor...  \n",
      "3  Feuds, flirtations and toilet talk go down amo...  \n",
      "4  In a city of coaching centers known to train I...  \n"
     ]
    }
   ],
   "source": [
    "data['date_added'] = pd.to_datetime(data['date_added'], errors='coerce')\n",
    "data['country'] = data['country'].fillna('Unknown')\n",
    "data['director'] = data['director'].fillna('Unknown director')\n",
    "data['cast'] = data['cast'].fillna('Unknown cast')\n",
    "data['duration'] = data['duration'].fillna('Unknown duration')\n",
    "data['rating'] = data['rating'].fillna('Rating Unknown')\n",
    "\n",
    "data.dropna(subset=['title', 'release_year'], inplace=True)\n",
    "\n",
    "print(data.head())"
   ]
  },
  {
   "cell_type": "code",
   "execution_count": 21,
   "id": "ffd6d6b5",
   "metadata": {},
   "outputs": [
    {
     "name": "stdout",
     "output_type": "stream",
     "text": [
      "      type  count\n",
      "0    Movie   6131\n",
      "1  TV Show   2676\n"
     ]
    }
   ],
   "source": [
    "query = \"\"\"\n",
    "SELECT type, COUNT(*) as count\n",
    "FROM netflix_data\n",
    "GROUP BY type;\n",
    "\"\"\"\n",
    "\n",
    "nd = pd.read_sql_query(query, conn)\n",
    "\n",
    "print(nd)\n"
   ]
  },
  {
   "cell_type": "code",
   "execution_count": 22,
   "id": "7d5a3a4b",
   "metadata": {},
   "outputs": [
    {
     "name": "stdout",
     "output_type": "stream",
     "text": [
      "  show_id     type                  title         director  \\\n",
      "0      s1    Movie   Dick Johnson Is Dead  Kirsten Johnson   \n",
      "1      s2  TV Show          Blood & Water             None   \n",
      "2      s3  TV Show              Ganglands  Julien Leclercq   \n",
      "3      s4  TV Show  Jailbirds New Orleans             None   \n",
      "4      s5  TV Show           Kota Factory             None   \n",
      "\n",
      "                                                cast        country  \\\n",
      "0                                               None  United States   \n",
      "1  Ama Qamata, Khosi Ngema, Gail Mabalane, Thaban...   South Africa   \n",
      "2  Sami Bouajila, Tracy Gotoas, Samuel Jouy, Nabi...           None   \n",
      "3                                               None           None   \n",
      "4  Mayur More, Jitendra Kumar, Ranjan Raj, Alam K...          India   \n",
      "\n",
      "           date_added  release_year rating   duration  \\\n",
      "0  September 25, 2021          2020  PG-13     90 min   \n",
      "1  September 24, 2021          2021  TV-MA  2 Seasons   \n",
      "2  September 24, 2021          2021  TV-MA   1 Season   \n",
      "3  September 24, 2021          2021  TV-MA   1 Season   \n",
      "4  September 24, 2021          2021  TV-MA  2 Seasons   \n",
      "\n",
      "                                           listed_in  \\\n",
      "0                                      Documentaries   \n",
      "1    International TV Shows, TV Dramas, TV Mysteries   \n",
      "2  Crime TV Shows, International TV Shows, TV Act...   \n",
      "3                             Docuseries, Reality TV   \n",
      "4  International TV Shows, Romantic TV Shows, TV ...   \n",
      "\n",
      "                                         description  \n",
      "0  As her father nears the end of his life, filmm...  \n",
      "1  After crossing paths at a party, a Cape Town t...  \n",
      "2  To protect his family from a powerful drug lor...  \n",
      "3  Feuds, flirtations and toilet talk go down amo...  \n",
      "4  In a city of coaching centers known to train I...  \n"
     ]
    }
   ],
   "source": [
    "query = \"\"\"SELECT * FROM netflix_data LIMIT 5;\"\"\"\n",
    "\n",
    "nd = pd.read_sql_query(query, conn)\n",
    "\n",
    "print(nd)\n"
   ]
  },
  {
   "cell_type": "code",
   "execution_count": 19,
   "id": "13bbb07b",
   "metadata": {},
   "outputs": [
    {
     "name": "stdout",
     "output_type": "stream",
     "text": [
      "          country  count\n",
      "0   United States   2818\n",
      "1           India    972\n",
      "2  United Kingdom    419\n",
      "3           Japan    245\n",
      "4     South Korea    199\n",
      "5          Canada    181\n",
      "6           Spain    145\n",
      "7          France    124\n",
      "8          Mexico    110\n",
      "9           Egypt    106\n"
     ]
    }
   ],
   "source": [
    "query = \"\"\"SELECT country, COUNT(*) as count\n",
    "FROM netflix_data\n",
    "WHERE country != 'Unknown'\n",
    "GROUP BY country\n",
    "ORDER BY count DESC\n",
    "LIMIT 10;\n",
    "\"\"\"\n",
    "\n",
    "nd = pd.read_sql_query(query, conn)\n",
    "\n",
    "print(nd)"
   ]
  },
  {
   "cell_type": "code",
   "execution_count": 26,
   "id": "a8f0a7c4",
   "metadata": {},
   "outputs": [
    {
     "name": "stdout",
     "output_type": "stream",
     "text": [
      "      rating  count\n",
      "0      TV-MA   3207\n",
      "1      TV-14   2160\n",
      "2      TV-PG    863\n",
      "3          R    799\n",
      "4      PG-13    490\n",
      "5      TV-Y7    334\n",
      "6       TV-Y    307\n",
      "7         PG    287\n",
      "8       TV-G    220\n",
      "9         NR     80\n",
      "10         G     41\n",
      "11  TV-Y7-FV      6\n",
      "12      None      4\n",
      "13        UR      3\n",
      "14     NC-17      3\n",
      "15    84 min      1\n",
      "16    74 min      1\n",
      "17    66 min      1\n"
     ]
    }
   ],
   "source": [
    "query = \"\"\"SELECT rating, COUNT(*) as count\n",
    "FROM netflix_data\n",
    "GROUP BY rating\n",
    "ORDER BY count DESC;\n",
    "\"\"\"\n",
    "\n",
    "nd = pd.read_sql_query(query, conn)\n",
    "\n",
    "print(nd)"
   ]
  },
  {
   "cell_type": "code",
   "execution_count": 31,
   "id": "127a40ec",
   "metadata": {},
   "outputs": [
    {
     "name": "stdout",
     "output_type": "stream",
     "text": [
      "       type  release_year  count\n",
      "0     Movie          2021    277\n",
      "1   TV Show          2021    315\n",
      "2     Movie          2020    517\n",
      "3   TV Show          2020    436\n",
      "4     Movie          2019    633\n",
      "5   TV Show          2019    397\n",
      "6     Movie          2018    767\n",
      "7   TV Show          2018    380\n",
      "8     Movie          2017    767\n",
      "9   TV Show          2017    265\n",
      "10    Movie          2016    658\n",
      "11  TV Show          2016    244\n",
      "12    Movie          2015    398\n",
      "13  TV Show          2015    162\n",
      "14    Movie          2014    264\n",
      "15  TV Show          2014     88\n",
      "16    Movie          2013    225\n",
      "17  TV Show          2013     63\n",
      "18    Movie          2012    173\n",
      "19  TV Show          2012     64\n"
     ]
    }
   ],
   "source": [
    "query = \"\"\"SELECT type, release_year, COUNT(*) AS count\n",
    "FROM netflix_data\n",
    "GROUP BY type, release_year\n",
    "ORDER BY release_year DESC, type\n",
    "LIMIT 20;\n",
    "\"\"\"\n",
    "\n",
    "nd = pd.read_sql_query(query, conn)\n",
    "\n",
    "print(nd)"
   ]
  },
  {
   "cell_type": "code",
   "execution_count": 32,
   "id": "55942049",
   "metadata": {},
   "outputs": [
    {
     "name": "stdout",
     "output_type": "stream",
     "text": [
      "      rating  average_duration\n",
      "0      NC-17        125.000000\n",
      "1      TV-14        110.290820\n",
      "2      PG-13        108.330612\n",
      "3          R        106.720201\n",
      "4         UR        106.333333\n",
      "5         PG         98.282230\n",
      "6      TV-MA         95.889913\n",
      "7      TV-PG         94.851852\n",
      "8         NR         94.533333\n",
      "9          G         90.268293\n",
      "10      TV-G         79.666667\n",
      "11      None         76.000000\n",
      "12  TV-Y7-FV         68.400000\n",
      "13     TV-Y7         66.287770\n",
      "14      TV-Y         48.114504\n",
      "15    84 min               NaN\n",
      "16    74 min               NaN\n",
      "17    66 min               NaN\n"
     ]
    }
   ],
   "source": [
    "query = \"\"\"SELECT rating, AVG(CAST(SUBSTR(duration, 1, INSTR(duration, ' ') - 1) AS INTEGER)) AS average_duration\n",
    "FROM netflix_data\n",
    "WHERE type = 'Movie'\n",
    "GROUP BY rating\n",
    "ORDER BY average_duration DESC;\n",
    "\"\"\"\n",
    "\n",
    "nd = pd.read_sql_query(query, conn)\n",
    "\n",
    "print(nd)"
   ]
  },
  {
   "cell_type": "code",
   "execution_count": 33,
   "id": "f1d7b9bd",
   "metadata": {},
   "outputs": [
    {
     "name": "stdout",
     "output_type": "stream",
     "text": [
      "                                          listed_in  count\n",
      "0                      Dramas, International Movies    362\n",
      "1                                     Documentaries    359\n",
      "2                                   Stand-Up Comedy    334\n",
      "3            Comedies, Dramas, International Movies    274\n",
      "4  Dramas, Independent Movies, International Movies    252\n",
      "5                                          Kids' TV    220\n",
      "6                          Children & Family Movies    215\n",
      "7                Children & Family Movies, Comedies    201\n",
      "8               Documentaries, International Movies    186\n",
      "9     Dramas, International Movies, Romantic Movies    180\n"
     ]
    }
   ],
   "source": [
    "query = \"\"\"SELECT listed_in, COUNT(*) AS count\n",
    "FROM netflix_data\n",
    "GROUP BY listed_in\n",
    "ORDER BY count DESC\n",
    "LIMIT 10;\n",
    "\"\"\"\n",
    "\n",
    "nd = pd.read_sql_query(query, conn)\n",
    "\n",
    "print(nd)"
   ]
  },
  {
   "cell_type": "code",
   "execution_count": 35,
   "id": "cba918b2",
   "metadata": {},
   "outputs": [
    {
     "name": "stdout",
     "output_type": "stream",
     "text": [
      "                 director  count\n",
      "0           Rajiv Chilaka     19\n",
      "1  Raúl Campos, Jan Suter     18\n",
      "2             Suhas Kadav     16\n",
      "3            Marcus Raboy     15\n",
      "4               Jay Karas     14\n",
      "5     Cathy Garcia-Molina     13\n",
      "6         Youssef Chahine     12\n",
      "7         Martin Scorsese     12\n",
      "8             Jay Chapman     12\n",
      "9        Steven Spielberg     11\n"
     ]
    }
   ],
   "source": [
    "query = \"\"\"SELECT director, COUNT(*) AS count\n",
    "FROM netflix_data\n",
    "WHERE type = 'Movie' AND director != 'Unknown director'\n",
    "GROUP BY director\n",
    "ORDER BY count DESC\n",
    "LIMIT 10;\n",
    "\"\"\"\n",
    "\n",
    "nd = pd.read_sql_query(query, conn)\n",
    "\n",
    "print(nd)"
   ]
  },
  {
   "cell_type": "code",
   "execution_count": 36,
   "id": "3224efb6",
   "metadata": {},
   "outputs": [
    {
     "name": "stdout",
     "output_type": "stream",
     "text": [
      "      duration  count\n",
      "0     1 Season   1793\n",
      "1    2 Seasons    425\n",
      "2    3 Seasons    199\n",
      "3    4 Seasons     95\n",
      "4    5 Seasons     65\n",
      "5    6 Seasons     33\n",
      "6    7 Seasons     23\n",
      "7    8 Seasons     17\n",
      "8    9 Seasons      9\n",
      "9   10 Seasons      7\n",
      "10  13 Seasons      3\n",
      "11  15 Seasons      2\n",
      "12  12 Seasons      2\n",
      "13  11 Seasons      2\n",
      "14  17 Seasons      1\n"
     ]
    }
   ],
   "source": [
    "query = \"\"\"SELECT duration, COUNT(*) AS count\n",
    "FROM netflix_data\n",
    "WHERE type = 'TV Show'\n",
    "GROUP BY duration\n",
    "ORDER BY count DESC;\n",
    "\"\"\"\n",
    "\n",
    "nd = pd.read_sql_query(query, conn)\n",
    "\n",
    "print(nd)"
   ]
  },
  {
   "cell_type": "code",
   "execution_count": 38,
   "id": "17a375fc",
   "metadata": {},
   "outputs": [
    {
     "name": "stdout",
     "output_type": "stream",
     "text": [
      "                                  title  \\\n",
      "0                       Eyes of a Thief   \n",
      "1                                  D.P.   \n",
      "2                      A Sort of Family   \n",
      "3                                  Fuga   \n",
      "4                      The Desert Bride   \n",
      "5                                Lusers   \n",
      "6                             Invisible   \n",
      "7                     Temporada de Caza   \n",
      "8                        Food on the Go   \n",
      "9                           Tango Feroz   \n",
      "10                            Underdogs   \n",
      "11                      Vientos de agua   \n",
      "12                      Mi Obra Maestra   \n",
      "13                              Perdida   \n",
      "14                   Despido Procedente   \n",
      "15            The Distinguished Citizen   \n",
      "16                           Black Snow   \n",
      "17                      Blood Will Tell   \n",
      "18                   Maradona in Mexico   \n",
      "19              El Pepe, a Supreme Life   \n",
      "20                     The Lost Brother   \n",
      "21  El patrón, radiografía de un crimen   \n",
      "22                             Barbecue   \n",
      "23                            Beat Bugs   \n",
      "24          Beat Bugs: All Together Now   \n",
      "25                                Adore   \n",
      "26                   Santa's Apprentice   \n",
      "27             Bureau of Magical Things   \n",
      "28                          Sardaarji 2   \n",
      "29                        Only the Dead   \n",
      "\n",
      "                                              country  \n",
      "0                                   , France, Algeria  \n",
      "1                                       , South Korea  \n",
      "2   Argentina, Brazil, France, Poland, Germany, De...  \n",
      "3                                    Argentina, Chile  \n",
      "4                                    Argentina, Chile  \n",
      "5                              Argentina, Chile, Peru  \n",
      "6                                   Argentina, France  \n",
      "7    Argentina, France, United States, Germany, Qatar  \n",
      "8                                    Argentina, Italy  \n",
      "9                                    Argentina, Spain  \n",
      "10                                   Argentina, Spain  \n",
      "11                                   Argentina, Spain  \n",
      "12                                   Argentina, Spain  \n",
      "13                                   Argentina, Spain  \n",
      "14                                   Argentina, Spain  \n",
      "15                                   Argentina, Spain  \n",
      "16                                   Argentina, Spain  \n",
      "17                           Argentina, United States  \n",
      "18                   Argentina, United States, Mexico  \n",
      "19                         Argentina, Uruguay, Serbia  \n",
      "20                  Argentina, Uruguay, Spain, France  \n",
      "21                               Argentina, Venezuela  \n",
      "22  Australia, Armenia, Japan, Jordan, Mexico, Mon...  \n",
      "23                                  Australia, Canada  \n",
      "24                                  Australia, Canada  \n",
      "25                                  Australia, France  \n",
      "26                         Australia, France, Ireland  \n",
      "27                                 Australia, Germany  \n",
      "28                                   Australia, India  \n",
      "29                                    Australia, Iraq  \n"
     ]
    }
   ],
   "source": [
    "query = \"\"\"SELECT title, country\n",
    "FROM netflix_data\n",
    "WHERE country LIKE '%,%' \n",
    "ORDER BY country\n",
    "LIMIT 30;\n",
    "\"\"\"\n",
    "\n",
    "nd = pd.read_sql_query(query, conn)\n",
    "\n",
    "print(nd)"
   ]
  },
  {
   "cell_type": "code",
   "execution_count": 39,
   "id": "24ec87c3",
   "metadata": {},
   "outputs": [
    {
     "name": "stdout",
     "output_type": "stream",
     "text": [
      "    word  count\n",
      "0      2     23\n",
      "1   girl     17\n",
      "2   love     15\n",
      "3  house     13\n",
      "4    man     12\n",
      "5  girls     12\n",
      "6     up     11\n",
      "7   game     11\n",
      "8   time     10\n",
      "9    day     10\n"
     ]
    }
   ],
   "source": [
    "query = \"\"\"SELECT LOWER(SUBSTR(title, INSTR(title, ' ') + 1)) AS word, COUNT(*) AS count\n",
    "FROM netflix_data\n",
    "GROUP BY word\n",
    "ORDER BY count DESC\n",
    "LIMIT 10;\n",
    "\"\"\"\n",
    "\n",
    "nd = pd.read_sql_query(query, conn)\n",
    "\n",
    "print(nd)"
   ]
  },
  {
   "cell_type": "code",
   "execution_count": 41,
   "id": "3dfd4221",
   "metadata": {},
   "outputs": [
    {
     "name": "stdout",
     "output_type": "stream",
     "text": [
      "    release_year  count\n",
      "0           2021     65\n",
      "1           2020     78\n",
      "2           2019     79\n",
      "3           2018    109\n",
      "4           2017     97\n",
      "5           2016     89\n",
      "6           2015     58\n",
      "7           2014     32\n",
      "8           2013     31\n",
      "9           2012     30\n",
      "10          2011     27\n",
      "11          2010     29\n",
      "12          2009     22\n",
      "13          2008     29\n",
      "14          2007     16\n",
      "15          2006     12\n",
      "16          2005     13\n",
      "17          2004     18\n",
      "18          2003     16\n",
      "19          2002     15\n",
      "20          2001     12\n",
      "21          2000     10\n",
      "22          1999     11\n",
      "23          1998      5\n",
      "24          1997     11\n",
      "25          1996      3\n",
      "26          1995      8\n",
      "27          1994      8\n",
      "28          1993      7\n",
      "29          1992      6\n",
      "30          1991      1\n",
      "31          1990      7\n",
      "32          1989      4\n",
      "33          1988      3\n",
      "34          1987      3\n",
      "35          1986      6\n",
      "36          1985      2\n",
      "37          1984      6\n",
      "38          1983      4\n",
      "39          1982      5\n",
      "40          1981      4\n",
      "41          1980      6\n",
      "42          1979      3\n",
      "43          1978      3\n",
      "44          1977      2\n",
      "45          1976      4\n",
      "46          1975      4\n",
      "47          1973      4\n",
      "48          1972      1\n",
      "49          1971      1\n",
      "50          1968      1\n",
      "51          1967      1\n",
      "52          1963      1\n",
      "53          1962      1\n",
      "54          1961      1\n",
      "55          1960      2\n",
      "56          1956      1\n"
     ]
    }
   ],
   "source": [
    "query = \"\"\"SELECT release_year, COUNT(*) AS count\n",
    "FROM netflix_data\n",
    "WHERE listed_in LIKE '%Action%' \n",
    "GROUP BY release_year\n",
    "ORDER BY release_year DESC;\n",
    "\"\"\"\n",
    "\n",
    "nd = pd.read_sql_query(query, conn)\n",
    "\n",
    "print(nd)"
   ]
  },
  {
   "cell_type": "code",
   "execution_count": 47,
   "id": "59a25a98",
   "metadata": {},
   "outputs": [
    {
     "name": "stdout",
     "output_type": "stream",
     "text": [
      "                                 title  country_count\n",
      "0                              반드시 잡는다              1\n",
      "1                                 마녀사냥              1\n",
      "2                             忍者ハットリくん              1\n",
      "3                 ​​Kuch Bheege Alfaaz              1\n",
      "4  ​SAINT SEIYA: Knights of the Zodiac              1\n",
      "5                          ​Mayurakshi              1\n",
      "6                   ​Maj Rati ​​Keteki              1\n",
      "7                         ​Goli Soda 2              1\n",
      "8                            يوم الدين              1\n",
      "9                            الف مبروك              1\n"
     ]
    }
   ],
   "source": [
    "query = \"\"\"SELECT title, COUNT(country) AS country_count\n",
    "FROM (\n",
    "  SELECT title, country\n",
    "  FROM netflix_data\n",
    "  WHERE country != 'Unknown'\n",
    "  GROUP BY title, country\n",
    ")\n",
    "GROUP BY title\n",
    "ORDER BY country_count DESC\n",
    "LIMIT 10;\n",
    "\"\"\"\n",
    "\n",
    "nd = pd.read_sql_query(query, conn)\n",
    "\n",
    "print(nd)"
   ]
  },
  {
   "cell_type": "code",
   "execution_count": null,
   "id": "3d7f5431",
   "metadata": {},
   "outputs": [],
   "source": []
  }
 ],
 "metadata": {
  "kernelspec": {
   "display_name": "Python 3 (ipykernel)",
   "language": "python",
   "name": "python3"
  },
  "language_info": {
   "codemirror_mode": {
    "name": "ipython",
    "version": 3
   },
   "file_extension": ".py",
   "mimetype": "text/x-python",
   "name": "python",
   "nbconvert_exporter": "python",
   "pygments_lexer": "ipython3",
   "version": "3.11.5"
  }
 },
 "nbformat": 4,
 "nbformat_minor": 5
}
