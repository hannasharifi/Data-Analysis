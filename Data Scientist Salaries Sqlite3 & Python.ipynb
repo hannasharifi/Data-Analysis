{
 "cells": [
  {
   "cell_type": "code",
   "execution_count": 24,
   "id": "b845b70a",
   "metadata": {},
   "outputs": [],
   "source": [
    "import sqlite3\n",
    "\n",
    "conn = sqlite3.connect('ds_salaries.db')\n",
    "\n",
    "file_path = '/Users/hannasharifi/Downloads/ds_salaries.csv'\n",
    "data = pd.read_csv(file_path)"
   ]
  },
  {
   "cell_type": "code",
   "execution_count": 25,
   "id": "a6c62ed1",
   "metadata": {},
   "outputs": [],
   "source": [
    "create_table_query = '''\n",
    "CREATE TABLE IF NOT EXISTS salaries (\n",
    "    work_year INTEGER,\n",
    "    experience_level TEXT,\n",
    "    employment_type TEXT,\n",
    "    job_title TEXT,\n",
    "    salary INTEGER,\n",
    "    salary_currency TEXT,\n",
    "    salary_in_usd INTEGER,\n",
    "    employee_residence TEXT,\n",
    "    remote_ratio INTEGER,\n",
    "    company_location TEXT,\n",
    "    company_size TEXT\n",
    ")\n",
    "'''\n",
    "\n",
    "conn.execute(create_table_query)\n",
    "\n",
    "df.to_sql('salaries', conn, if_exists='replace', index=False)\n",
    "\n",
    "conn.commit()\n",
    "conn.close()"
   ]
  },
  {
   "cell_type": "code",
   "execution_count": 7,
   "id": "4b250dfb",
   "metadata": {},
   "outputs": [
    {
     "data": {
      "text/plain": [
       "{'experience_level': array(['SE', 'MI', 'EN', 'EX'], dtype=object),\n",
       " 'employment_type': array(['FT', 'CT', 'FL', 'PT'], dtype=object),\n",
       " 'job_title': array(['Principal Data Scientist', 'ML Engineer', 'Data Scientist',\n",
       "        'Applied Scientist', 'Data Analyst', 'Data Modeler',\n",
       "        'Research Engineer', 'Analytics Engineer',\n",
       "        'Business Intelligence Engineer', 'Machine Learning Engineer',\n",
       "        'Data Strategist', 'Data Engineer', 'Computer Vision Engineer',\n",
       "        'Data Quality Analyst', 'Compliance Data Analyst',\n",
       "        'Data Architect', 'Applied Machine Learning Engineer',\n",
       "        'AI Developer', 'Research Scientist', 'Data Analytics Manager',\n",
       "        'Business Data Analyst', 'Applied Data Scientist',\n",
       "        'Staff Data Analyst', 'ETL Engineer', 'Data DevOps Engineer',\n",
       "        'Head of Data', 'Data Science Manager', 'Data Manager',\n",
       "        'Machine Learning Researcher', 'Big Data Engineer',\n",
       "        'Data Specialist', 'Lead Data Analyst', 'BI Data Engineer',\n",
       "        'Director of Data Science', 'Machine Learning Scientist',\n",
       "        'MLOps Engineer', 'AI Scientist', 'Autonomous Vehicle Technician',\n",
       "        'Applied Machine Learning Scientist', 'Lead Data Scientist',\n",
       "        'Cloud Database Engineer', 'Financial Data Analyst',\n",
       "        'Data Infrastructure Engineer', 'Software Data Engineer',\n",
       "        'AI Programmer', 'Data Operations Engineer', 'BI Developer',\n",
       "        'Data Science Lead', 'Deep Learning Researcher', 'BI Analyst',\n",
       "        'Data Science Consultant', 'Data Analytics Specialist',\n",
       "        'Machine Learning Infrastructure Engineer', 'BI Data Analyst',\n",
       "        'Head of Data Science', 'Insight Analyst',\n",
       "        'Deep Learning Engineer', 'Machine Learning Software Engineer',\n",
       "        'Big Data Architect', 'Product Data Analyst',\n",
       "        'Computer Vision Software Engineer', 'Azure Data Engineer',\n",
       "        'Marketing Data Engineer', 'Data Analytics Lead', 'Data Lead',\n",
       "        'Data Science Engineer', 'Machine Learning Research Engineer',\n",
       "        'NLP Engineer', 'Manager Data Management',\n",
       "        'Machine Learning Developer', '3D Computer Vision Researcher',\n",
       "        'Principal Machine Learning Engineer', 'Data Analytics Engineer',\n",
       "        'Data Analytics Consultant', 'Data Management Specialist',\n",
       "        'Data Science Tech Lead', 'Data Scientist Lead',\n",
       "        'Cloud Data Engineer', 'Data Operations Analyst',\n",
       "        'Marketing Data Analyst', 'Power BI Developer',\n",
       "        'Product Data Scientist', 'Principal Data Architect',\n",
       "        'Machine Learning Manager', 'Lead Machine Learning Engineer',\n",
       "        'ETL Developer', 'Cloud Data Architect', 'Lead Data Engineer',\n",
       "        'Head of Machine Learning', 'Principal Data Analyst',\n",
       "        'Principal Data Engineer', 'Staff Data Scientist',\n",
       "        'Finance Data Analyst'], dtype=object),\n",
       " 'salary_currency': array(['EUR', 'USD', 'INR', 'HKD', 'CHF', 'GBP', 'AUD', 'SGD', 'CAD',\n",
       "        'ILS', 'BRL', 'THB', 'PLN', 'HUF', 'CZK', 'DKK', 'JPY', 'MXN',\n",
       "        'TRY', 'CLP'], dtype=object),\n",
       " 'employee_residence': array(['ES', 'US', 'CA', 'DE', 'GB', 'NG', 'IN', 'HK', 'PT', 'NL', 'CH',\n",
       "        'CF', 'FR', 'AU', 'FI', 'UA', 'IE', 'IL', 'GH', 'AT', 'CO', 'SG',\n",
       "        'SE', 'SI', 'MX', 'UZ', 'BR', 'TH', 'HR', 'PL', 'KW', 'VN', 'CY',\n",
       "        'AR', 'AM', 'BA', 'KE', 'GR', 'MK', 'LV', 'RO', 'PK', 'IT', 'MA',\n",
       "        'LT', 'BE', 'AS', 'IR', 'HU', 'SK', 'CN', 'CZ', 'CR', 'TR', 'CL',\n",
       "        'PR', 'DK', 'BO', 'PH', 'DO', 'EG', 'ID', 'AE', 'MY', 'JP', 'EE',\n",
       "        'HN', 'TN', 'RU', 'DZ', 'IQ', 'BG', 'JE', 'RS', 'NZ', 'MD', 'LU',\n",
       "        'MT'], dtype=object),\n",
       " 'company_location': array(['ES', 'US', 'CA', 'DE', 'GB', 'NG', 'IN', 'HK', 'NL', 'CH', 'CF',\n",
       "        'FR', 'FI', 'UA', 'IE', 'IL', 'GH', 'CO', 'SG', 'AU', 'SE', 'SI',\n",
       "        'MX', 'BR', 'PT', 'RU', 'TH', 'HR', 'VN', 'EE', 'AM', 'BA', 'KE',\n",
       "        'GR', 'MK', 'LV', 'RO', 'PK', 'IT', 'MA', 'PL', 'AL', 'AR', 'LT',\n",
       "        'AS', 'CR', 'IR', 'BS', 'HU', 'AT', 'SK', 'CZ', 'TR', 'PR', 'DK',\n",
       "        'BO', 'PH', 'BE', 'ID', 'EG', 'AE', 'LU', 'MY', 'HN', 'JP', 'DZ',\n",
       "        'IQ', 'CN', 'NZ', 'CL', 'MD', 'MT'], dtype=object),\n",
       " 'company_size': array(['L', 'S', 'M'], dtype=object)}"
      ]
     },
     "execution_count": 7,
     "metadata": {},
     "output_type": "execute_result"
    }
   ],
   "source": [
    "categorical_columns = ['experience_level', 'employment_type', 'job_title', 'salary_currency', \n",
    "                       'employee_residence', 'company_location', 'company_size']\n",
    "\n",
    "unique_values = {column: data[column].unique() for column in categorical_columns}\n",
    "unique_values"
   ]
  },
  {
   "cell_type": "code",
   "execution_count": 8,
   "id": "964ea568",
   "metadata": {},
   "outputs": [
    {
     "data": {
      "text/plain": [
       "(-25000.0,\n",
       " 295000.0,\n",
       " 63,\n",
       " count        63.000000\n",
       " mean     331394.301587\n",
       " std       41264.614303\n",
       " min      297300.000000\n",
       " 25%      300000.000000\n",
       " 50%      310000.000000\n",
       " 75%      350000.000000\n",
       " max      450000.000000\n",
       " Name: salary_in_usd, dtype: float64)"
      ]
     },
     "execution_count": 8,
     "metadata": {},
     "output_type": "execute_result"
    }
   ],
   "source": [
    "Q1 = data['salary_in_usd'].quantile(0.25)\n",
    "Q3 = data['salary_in_usd'].quantile(0.75)\n",
    "IQR = Q3 - Q1\n",
    "\n",
    "lower_bound = Q1 - 1.5 * IQR\n",
    "upper_bound = Q3 + 1.5 * IQR\n",
    "\n",
    "outliers = data[(data['salary_in_usd'] < lower_bound) | (data['salary_in_usd'] > upper_bound)]\n",
    "\n",
    "outliers_summary = outliers['salary_in_usd'].describe()\n",
    "outliers_count = outliers.shape[0]\n",
    "\n",
    "lower_bound, upper_bound, outliers_count, outliers_summary"
   ]
  },
  {
   "cell_type": "code",
   "execution_count": 9,
   "id": "75f59ab1",
   "metadata": {},
   "outputs": [
    {
     "data": {
      "text/plain": [
       "work_year                int64\n",
       "experience_level      category\n",
       "employment_type       category\n",
       "job_title             category\n",
       "salary                   int64\n",
       "salary_currency       category\n",
       "salary_in_usd            int64\n",
       "employee_residence    category\n",
       "remote_ratio             int64\n",
       "company_location      category\n",
       "company_size          category\n",
       "dtype: object"
      ]
     },
     "execution_count": 9,
     "metadata": {},
     "output_type": "execute_result"
    }
   ],
   "source": [
    "for column in categorical_columns:\n",
    "    data[column] = data[column].str.strip().str.lower()\n",
    "\n",
    "for column in categorical_columns:\n",
    "    data[column] = data[column].astype('category')\n",
    "\n",
    "final_data_types = data.dtypes\n",
    "\n",
    "final_data_types"
   ]
  },
  {
   "cell_type": "code",
   "execution_count": 15,
   "id": "fc3ff306",
   "metadata": {},
   "outputs": [
    {
     "name": "stdout",
     "output_type": "stream",
     "text": [
      "Experience Level: EX, Average Salary (USD): 194930.93\n",
      "Experience Level: SE, Average Salary (USD): 153051.07\n",
      "Experience Level: MI, Average Salary (USD): 104525.94\n",
      "Experience Level: EN, Average Salary (USD): 78546.28\n"
     ]
    }
   ],
   "source": [
    "#1. What is the average salary in USD across all job titles, and how does it vary by experience level?\n",
    "\n",
    "conn = sqlite3.connect('ds_salaries.db')\n",
    "\n",
    "cursor = conn.cursor()\n",
    "\n",
    "query = '''\n",
    "SELECT experience_level, AVG(salary_in_usd) AS average_salary\n",
    "FROM salaries\n",
    "GROUP BY experience_level\n",
    "ORDER BY average_salary DESC\n",
    "'''\n",
    "\n",
    "cursor.execute(query)\n",
    "\n",
    "results = cursor.fetchall()\n",
    "\n",
    "for row in results:\n",
    "    print(f\"Experience Level: {row[0]}, Average Salary (USD): {row[1]:.2f}\")"
   ]
  },
  {
   "cell_type": "code",
   "execution_count": 16,
   "id": "d2effe81",
   "metadata": {},
   "outputs": [
    {
     "name": "stdout",
     "output_type": "stream",
     "text": [
      "Remote Category: No Remote (On-site), Average Salary (USD): 144316.20\n",
      "Remote Category: Fully Remote, Average Salary (USD): 136481.45\n",
      "Remote Category: Partially Remote, Average Salary (USD): 78400.69\n"
     ]
    }
   ],
   "source": [
    "#2. How does remote work affect salaries in the data science field?\n",
    "\n",
    "conn = sqlite3.connect('ds_salaries.db')\n",
    "\n",
    "cursor = conn.cursor()\n",
    "\n",
    "query = '''\n",
    "SELECT\n",
    "    CASE\n",
    "        WHEN remote_ratio = 0 THEN 'No Remote (On-site)'\n",
    "        WHEN remote_ratio > 0 AND remote_ratio < 100 THEN 'Partially Remote'\n",
    "        WHEN remote_ratio = 100 THEN 'Fully Remote'\n",
    "    END AS remote_category,\n",
    "    AVG(salary_in_usd) AS average_salary\n",
    "FROM salaries\n",
    "GROUP BY remote_category\n",
    "ORDER BY average_salary DESC\n",
    "'''\n",
    "\n",
    "cursor.execute(query)\n",
    "\n",
    "results = cursor.fetchall()\n",
    "\n",
    "for row in results:\n",
    "    print(f\"Remote Category: {row[0]}, Average Salary (USD): {row[1]:.2f}\")"
   ]
  },
  {
   "cell_type": "code",
   "execution_count": 17,
   "id": "22575792",
   "metadata": {},
   "outputs": [
    {
     "name": "stdout",
     "output_type": "stream",
     "text": [
      "Job Title: Data Science Tech Lead, Average Salary (USD): 375000.00\n",
      "Job Title: Cloud Data Architect, Average Salary (USD): 250000.00\n",
      "Job Title: Data Lead, Average Salary (USD): 212500.00\n",
      "Job Title: Data Analytics Lead, Average Salary (USD): 211254.50\n",
      "Job Title: Principal Data Scientist, Average Salary (USD): 198171.12\n"
     ]
    }
   ],
   "source": [
    "#3. What are the top 5 job titles with the highest average salaries?\n",
    "\n",
    "conn = sqlite3.connect('ds_salaries.db')\n",
    "\n",
    "cursor = conn.cursor()\n",
    "\n",
    "query = '''\n",
    "SELECT job_title, AVG(salary_in_usd) AS average_salary\n",
    "FROM salaries\n",
    "GROUP BY job_title\n",
    "ORDER BY average_salary DESC\n",
    "LIMIT 5\n",
    "'''\n",
    "\n",
    "cursor.execute(query)\n",
    "\n",
    "results = cursor.fetchall()\n",
    "\n",
    "for row in results:\n",
    "    print(f\"Job Title: {row[0]}, Average Salary (USD): {row[1]:.2f}\")"
   ]
  },
  {
   "cell_type": "code",
   "execution_count": 18,
   "id": "e8a86cc2",
   "metadata": {},
   "outputs": [
    {
     "name": "stdout",
     "output_type": "stream",
     "text": [
      "Company Size: M, Average Salary (USD): 143130.55\n",
      "Company Size: L, Average Salary (USD): 118300.98\n",
      "Company Size: S, Average Salary (USD): 78226.68\n"
     ]
    }
   ],
   "source": [
    "#4. How do salaries vary by company size?\n",
    "\n",
    "conn = sqlite3.connect('ds_salaries.db')\n",
    "\n",
    "cursor = conn.cursor()\n",
    "\n",
    "query = '''\n",
    "SELECT company_size, AVG(salary_in_usd) AS average_salary\n",
    "FROM salaries\n",
    "GROUP BY company_size\n",
    "ORDER BY average_salary DESC\n",
    "'''\n",
    "\n",
    "cursor.execute(query)\n",
    "\n",
    "results = cursor.fetchall()\n",
    "\n",
    "for row in results:\n",
    "    print(f\"Company Size: {row[0]}, Average Salary (USD): {row[1]:.2f}\")"
   ]
  },
  {
   "cell_type": "code",
   "execution_count": 21,
   "id": "5e2cf174",
   "metadata": {},
   "outputs": [
    {
     "name": "stdout",
     "output_type": "stream",
     "text": [
      "Employment Type, Average Salary (USD), Number of Positions:\n",
      "FT, 138314.20, 3718\n",
      "PT, 39533.71, 17\n",
      "CT, 113446.90, 10\n",
      "FL, 51807.80, 10\n"
     ]
    }
   ],
   "source": [
    "#5. What are the most common employment types (Full-time, Contract, etc.) in the dataset, and how do salaries vary among them?\n",
    "\n",
    "conn = sqlite3.connect('ds_salaries.db')\n",
    "\n",
    "cursor = conn.cursor()\n",
    "\n",
    "query = '''\n",
    "SELECT employment_type, AVG(salary_in_usd) AS average_salary, COUNT(*) AS num_positions\n",
    "FROM salaries\n",
    "GROUP BY employment_type\n",
    "ORDER BY num_positions DESC, average_salary DESC\n",
    "'''\n",
    "\n",
    "cursor.execute(query)\n",
    "\n",
    "results = cursor.fetchall()\n",
    "\n",
    "print(\"Employment Type, Average Salary (USD), Number of Positions:\")\n",
    "for row in results:\n",
    "    print(f\"{row[0]}, {row[1]:.2f}, {row[2]}\")"
   ]
  },
  {
   "cell_type": "code",
   "execution_count": 23,
   "id": "be329322",
   "metadata": {},
   "outputs": [
    {
     "name": "stdout",
     "output_type": "stream",
     "text": [
      "Average salary in USD by year:\n",
      "Year: 2020, Average Salary (USD): 92302.63\n",
      "Year: 2021, Average Salary (USD): 94087.21\n",
      "Year: 2022, Average Salary (USD): 133338.62\n",
      "Year: 2023, Average Salary (USD): 149045.54\n"
     ]
    }
   ],
   "source": [
    "#6. How have salaries in the data science field changed over the years covered in the dataset?\n",
    "\n",
    "conn = sqlite3.connect('ds_salaries.db')\n",
    "\n",
    "cursor = conn.cursor()\n",
    "\n",
    "query = '''\n",
    "SELECT work_year, AVG(salary_in_usd) AS average_salary\n",
    "FROM salaries\n",
    "GROUP BY work_year\n",
    "ORDER BY work_year ASC\n",
    "'''\n",
    "\n",
    "cursor.execute(query)\n",
    "\n",
    "results = cursor.fetchall()\n",
    "\n",
    "print(\"Average salary in USD by year:\")\n",
    "for row in results:\n",
    "    print(f\"Year: {row[0]}, Average Salary (USD): {row[1]:.2f}\")\n",
    "\n",
    "conn.close()"
   ]
  },
  {
   "cell_type": "code",
   "execution_count": null,
   "id": "03bce2c4",
   "metadata": {},
   "outputs": [],
   "source": []
  }
 ],
 "metadata": {
  "kernelspec": {
   "display_name": "Python 3 (ipykernel)",
   "language": "python",
   "name": "python3"
  },
  "language_info": {
   "codemirror_mode": {
    "name": "ipython",
    "version": 3
   },
   "file_extension": ".py",
   "mimetype": "text/x-python",
   "name": "python",
   "nbconvert_exporter": "python",
   "pygments_lexer": "ipython3",
   "version": "3.11.5"
  }
 },
 "nbformat": 4,
 "nbformat_minor": 5
}
